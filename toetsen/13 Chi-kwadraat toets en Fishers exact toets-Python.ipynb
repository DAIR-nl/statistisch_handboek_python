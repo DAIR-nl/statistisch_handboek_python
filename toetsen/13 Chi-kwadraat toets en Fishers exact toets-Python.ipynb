{
 "cells": [
  {
   "cell_type": "raw",
   "id": "32f2b7de",
   "metadata": {},
   "source": [
    "---\n",
    "title: \"Chi-kwadraat toets en Fisher's exact toets\"\n",
    "output:\n",
    "  html_document:\n",
    "    theme: lumen\n",
    "    toc: yes\n",
    "    toc_float: \n",
    "      collapsed: FALSE \n",
    "    number_sections: true\n",
    "  keywords: [statistisch handboek, studiedata]\n",
    "---"
   ]
  },
  {
   "cell_type": "markdown",
   "id": "24557eee",
   "metadata": {
    "lines_to_next_cell": 0
   },
   "source": [
    "<!-- ## CLOSEDBLOK: Functies.R -->"
   ]
  },
  {
   "cell_type": "code",
   "execution_count": null,
   "id": "a5781941",
   "metadata": {
    "include": true,
    "lines_to_next_cell": 0,
    "message": false,
    "name": "functies",
    "results": "asis",
    "tags": [
     "remove_input"
    ],
    "warning": false
   },
   "outputs": [],
   "source": [
    "library(here)\n",
    "if (!exists(\"Substitute_var\")) {\n",
    "  ## Installeer packages en functies\n",
    "  source(paste0(here::here(), \"/99. Functies en Libraries/00. Voorbereidingen.R\"), echo = FALSE)\n",
    "}"
   ]
  },
  {
   "cell_type": "markdown",
   "id": "c6a5a819",
   "metadata": {
    "lines_to_next_cell": 0
   },
   "source": [
    "<!-- ## /CLOSEDBLOK: Functies.R -->\n",
    "\n",
    "<style>\n",
    "`r htmltools::includeHTML(paste0(here::here(),\"/01. Includes/css/Stylesheet_SHHO.css\"))`\n",
    "</style>\n",
    "\n",
    "<!-- ## CLOSEDBLOK: Header.R -->"
   ]
  },
  {
   "cell_type": "code",
   "execution_count": null,
   "id": "34d59b53",
   "metadata": {
    "code": "#R_CODE#readLines(paste0(here::here(),\"/01. Includes/code/Header.R\"))",
    "include": true,
    "lines_to_next_cell": 0,
    "name": "header",
    "results": "asis",
    "tags": [
     "remove_input"
    ]
   },
   "outputs": [],
   "source": []
  },
  {
   "cell_type": "markdown",
   "id": "6fe58ce9",
   "metadata": {
    "lines_to_next_cell": 0
   },
   "source": [
    "<!-- ## /CLOSEDBLOK: Header.R -->\n",
    "\n",
    "<!-- ## CLOSEDBLOK: Status.R -->"
   ]
  },
  {
   "cell_type": "code",
   "execution_count": null,
   "id": "b466a8e5",
   "metadata": {
    "code": "#R_CODE#readLines(paste0(here::here(),\"/01. Includes/code/Status.R\"))",
    "include": true,
    "lines_to_next_cell": 0,
    "name": "status",
    "results": "asis",
    "tags": [
     "remove_input"
    ]
   },
   "outputs": [],
   "source": []
  },
  {
   "cell_type": "markdown",
   "id": "2bcdbea1",
   "metadata": {
    "lines_to_next_cell": 0
   },
   "source": [
    "<!-- ## /CLOSEDBLOK: Status.R -->\n",
    "\n",
    "<!-- ## CLOSEDBLOK: Reticulate.py -->"
   ]
  },
  {
   "cell_type": "code",
   "execution_count": null,
   "id": "96116346",
   "metadata": {
    "include": true,
    "lines_to_next_cell": 0,
    "message": false,
    "name": "reticulate",
    "tags": [
     "remove_input"
    ],
    "warning": false
   },
   "outputs": [],
   "source": [
    "library(reticulate)\n",
    "knitr::knit_engines$set(python = reticulate::eng_python)"
   ]
  },
  {
   "cell_type": "markdown",
   "id": "6eb0a689",
   "metadata": {
    "lines_to_next_cell": 0
   },
   "source": [
    "<!-- ## /CLOSEDBLOK: Reticulate.py -->\n",
    "\n",
    "<!-- ## OPENBLOK: Data-aanmaken.py -->"
   ]
  },
  {
   "cell_type": "code",
   "execution_count": null,
   "id": "b303f6c4",
   "metadata": {
    "eval": false,
    "lines_to_next_cell": 0,
    "name": "opmerking TODO",
    "tags": [
     "remove_cell"
    ]
   },
   "outputs": [],
   "source": [
    "# TODO: Uitleg extra pagina: nominaal, ordinaal etc., afhanjeklijk en onafhankelijk  \n",
    "# TODO: Uitleg transformeren data "
   ]
  },
  {
   "cell_type": "code",
   "execution_count": null,
   "id": "d2583e5a",
   "metadata": {
    "echo": true,
    "lines_to_next_cell": 0,
    "name": "aanmaken data",
    "tags": [
     "remove_cell"
    ]
   },
   "outputs": [],
   "source": [
    "source(paste0(here::here(),\"/01. Includes/data/13.R\"))"
   ]
  },
  {
   "cell_type": "markdown",
   "id": "bdb105e7",
   "metadata": {},
   "source": [
    "<!-- ## /OPENBLOK: Data-aanmaken.py -->\n",
    "\n",
    "# Toepassing\n",
    "Gebruik de *Chi-kwadraat toets* of de *Fisher's exact toets* om te toetsen of er een afhankelijkheid bestaat tussen twee ongepaarde, binaire variabelen.[^1]<sup>, </sup>[^2] In tegenstelling tot de *Chi-kwadraat toets* kan de *Fisher's exact toets* ook bij lage aantallen gebruikt worden.[^3] De *Fisher's exact toets* is terughoudender in het benoemen of er een significant verschil is in percentage tussen beide groepen dan de *Chi-kwadraat toets*.[^4]   \n",
    "\n",
    "# Onderwijscasus\n",
    "<div id = \"casus\">\n",
    "De studentendecaan van een hogeschool vraagt zich af of studenten met een functiebeperking sinds het invoeren van het leenstelsel meer of minder uitvallen.\n",
    "\n",
    "*H~0~*: Onder de studenten met een functiebeperking is het percentage uitval na de invoering van het leenstelsel gelijk gebleven.\n",
    "\n",
    "*H~A~*: Onder de studenten met een functiebeperking is het percentage uitval na de invoering van het leenstelsel veranderd.\n",
    "</div>\n",
    "\n",
    "# Assumpties\n",
    "Voor een valide resultaat moeten de data aan een aantal voorwaarden voldoen voordat de toets uitgevoerd kan worden. De groepen zijn op nominaal of ordinaal niveau gemeten[^5] en daarmee onafhankelijk van elkaar. \n",
    "\n",
    "## Groepsgrootte\n",
    "Beide testen maken gebruik van een kruistabel; zie tabel 1 voor de geoberveerde waarden van de casus.De *Chi-kwadraat toets* wordt onbetrouwbaar als er een geobserveerde waarde van 10 of lager is.[^6]  "
   ]
  },
  {
   "cell_type": "markdown",
   "id": "c164f268",
   "metadata": {
    "lines_to_next_cell": 0
   },
   "source": [
    "|                      | uitval   | geen uitval | totaal | \n",
    "| -------------------- | ---------| ------------| -------------| \n",
    "| **geen leenstelsel** |`r Uitval_functiebeperking[1,1]`   | `r Uitval_functiebeperking[1,2]`          | **`r sum(Uitval_functiebeperking[1,1:2])`**|\n",
    "| **wel leenstelsel**  |`r Uitval_functiebeperking[2,1]`   | `r Uitval_functiebeperking[2,2]`         | **`r sum(Uitval_functiebeperking[2,1:2])`**|\n",
    "|**totaal**            |**`r sum(Uitval_functiebeperking[1:2,1])`**   | **`r sum(Uitval_functiebeperking[1:2,2])`**     | **`r sum(Uitval_functiebeperking)`** |\n",
    "*Tabel 1. Geobserveerde waarden casus uitval met of zonder leenstelsel*\n",
    "\n",
    "Op basis van geobserveerde waarden kunnen de verwachte waarden berekend worden. In deze casus kan de verwachte waarde van de groep uitgevallen studenten zonder leenstelsel berekend worden door het aantal studenten zonder leenstelsel te vermenigvuldigen met het aantal studenten dat is uitgevallen en de uitkomst te delen door het totaal aantal studenten:\n",
    "\n",
    "* aantal studenten zonder leenstelsel: 871   \n",
    "* aantal studenten die uitgevallen zijn: 744  \n",
    "* totaal aantal studenten: 1634  \n",
    "* verwacht aantal uitgevallen studenten zonder leenstelsel: 871*744/1634 ≈ 397, zie tabel 2. \n",
    "\n",
    "|                      | uitval | geen uitval |\n",
    "| -------------------- | -------------| ------------| \n",
    "| **geen leenstelsel** | 397      | 474     |\n",
    "| **wel leenstelsel**  | 347      | 416     |\n",
    "*Tabel 2. Verwachte waarden casus uitval met of zonder leenstelsel*\n",
    "\n",
    "Naast onbetrouwbaarheid bij geobserveerde waarden lager dan 10, wordt de *chi-kwadraat toets* ook onbetrouwbaar als één van de verwachte waarden lager dan 5 is. Gebruik in die gevallen de *Fisher’s exact toets*.[^7]  \n",
    "\n",
    "# De data bekijken\n",
    "<!-- ## TEKSTBLOK: Dataset-inladen.py -->\n",
    "Er is een kruistabel `Uitval_functiebeperking` ingeladen over de uitval van studenten met een functiebeperking voor en na de invoering van het leenstelsel. Zowel de variabele voor uitval (wel of geen uitval) als voor functiebeperking (wel of geen functiebeperking) zijn binair. Deze tabel is gebaseerd op een dataset waarin uitval en functiebeperking voor studenten wordt bijgehouden.\n",
    "<!-- ## /TEKSTBLOK: Dataset-inladen.py -->\n",
    "<!-- ## OPENBLOK: Data-bekijken.py -->"
   ]
  },
  {
   "cell_type": "code",
   "execution_count": null,
   "id": "fb1d5d1d",
   "metadata": {
    "tags": [
     "remove_cell"
    ]
   },
   "outputs": [],
   "source": [
    "%%python\n",
    "import pandas as pd\n",
    "Uitval_functiebeperking = r.Uitval_functiebeperking\n",
    "Uitval_functiebeperking_n43 = r.Uitval_functiebeperking_n43"
   ]
  },
  {
   "cell_type": "code",
   "execution_count": null,
   "id": "e4f7880a",
   "metadata": {
    "collapse": true,
    "lines_to_next_cell": 0,
    "name": "data bekijken-1"
   },
   "outputs": [],
   "source": [
    "%%python\n",
    "print(Uitval_functiebeperking)"
   ]
  },
  {
   "cell_type": "markdown",
   "id": "e84afd8d",
   "metadata": {
    "lines_to_next_cell": 0
   },
   "source": [
    "<!-- ## /OPENBLOK: Data-bekijken.py -->\n",
    "\n",
    "# Chi-kwadraat toets\n",
    "## Uitvoering\n",
    "<!-- ## TEKSTBLOK: Chi2-toets-1.py -->\n",
    "De *chi-kwadraat toets* wordt uitgevoerd om de vraag te beantwoorden of het percentage studenten met een functiebeperking dat is uitgevallen voor en na de invoering van het leenstelsel veranderd is. Gebruik `stats.chi2_contingency()` op een kruistabel. De interpretatie van de statitische toets in Python is: `<teststatistiek>, <p-waarde>, <vrijheidsgraad>`.\n",
    "<!-- ## /TEKSTBLOK: Chi2-toets-1.py -->\n",
    "\n",
    "<!-- ## OPENBLOK: Chi2-toets-2.py -->"
   ]
  },
  {
   "cell_type": "code",
   "execution_count": null,
   "id": "6ff4d06e",
   "metadata": {
    "lines_to_next_cell": 0
   },
   "outputs": [],
   "source": [
    "%%python\n",
    "import scipy.stats as stats\n",
    "tstat, pval, df, tab = stats.chi2_contingency(Uitval_functiebeperking, correction=True)\n",
    "print(tstat, df, pval)"
   ]
  },
  {
   "cell_type": "markdown",
   "id": "2d6fcb6c",
   "metadata": {},
   "source": [
    "<!-- ## /OPENBLOK: Chi2-toets-2.py -->\n",
    "\n",
    "<!-- ## CLOSEDBLOK: Chi2-toets-3.py -->\n",
    "\n",
    "<!-- ## /CLOSEDBLOK: Chi2-toets-3.py -->\n",
    "\n",
    "<!-- ## TEKSTBLOK: Chi2-toets-4.py -->\n",
    "* *χ^2^* ~1~ ≈ `r Round_and_format(py$tstat)`, *p* ≈ `r Round_and_format(py$pval)`  \n",
    "* Vrijheidsgraden: *df* = (*k*-1)(*r*-1), waar k staat voor kolom en r voor rij. In dit geval geldt *df* = `r py$df`. De continuïteitscorrectie van Yates wordt automatisch toegepast wanneer het aantal vrijheidsgraden 1 is.[^6]   \n",
    "* p-waarde < 0,05, dus de H~0~ wordt verworpen.[^8]  \n",
    "\n",
    "<!-- ## /TEKSTBLOK: Chi2-toets-4.py -->\n",
    "\n",
    "## Rapportage\n",
    "<!-- ## TEKSTBLOK: Rapportage.py -->\n",
    "De *Chi-kwadraat toets* is uitgevoerd om te toetsen of studenten met een functiebeperking meer of minder uitvallen sinds de invoering van het leenstelsel. De resultaten ondersteunen de alternatieve hypothese: het percentage uitval van het aantal studenten met een functiebeperking is na de invoering van het leenstelsel veranderd, *χ^2^* ~`r py$df`~ ≈ `r py$pval`, *p* < 0,05.\n",
    "\n",
    "<!-- ## /TEKSTBLOK: Rapportage.py -->"
   ]
  },
  {
   "cell_type": "markdown",
   "id": "51d129b0",
   "metadata": {
    "lines_to_next_cell": 0
   },
   "source": [
    "# Fisher's exact toets\n",
    "## Uitvoering \n",
    "<!-- ## TEKSTBLOK: Data-inladen-n43.R -->\n",
    "De *Fisher's exact toets* wordt uitgevoerd om de vraag te beantwoorden of het percentage studenten met een functiebeperking dat is uitgevallen voor en na de invoering van het leenstelsel gelijk is gebleven. Deze toets is ook betrouwbaar bij een lage waarde; hierbij een voorbeeld met lage aantallen. Er is een steekproef van `Uitval_functiebeperking` ingeladen genaamd `Uitval_functiebeperking_n43`. \n",
    "<!-- ## /TEKSTBLOK: Data-inladen-n43.R -->\n",
    "\n",
    "<!-- ## OPENBLOK: data-bekijken-n43.py -->"
   ]
  },
  {
   "cell_type": "code",
   "execution_count": null,
   "id": "3e776dfe",
   "metadata": {
    "lines_to_next_cell": 0,
    "name": "data bekijken n43"
   },
   "outputs": [],
   "source": [
    "%%python\n",
    "print(Uitval_functiebeperking_n43)"
   ]
  },
  {
   "cell_type": "markdown",
   "id": "a477082f",
   "metadata": {
    "lines_to_next_cell": 0
   },
   "source": [
    "<!-- ## /OPENBLOK: data-bekijken-n43.py -->\n",
    "\n",
    "De groepen hebben een laag aantal geobserveerde waarden variërend van 5 tot 16. Voer de *Fisher's exact toets* uit.\n",
    "\n",
    "<!-- ## OPENBLOK: Fishers-Exact-toets.py -->"
   ]
  },
  {
   "cell_type": "code",
   "execution_count": null,
   "id": "725da334",
   "metadata": {
    "lines_to_next_cell": 0
   },
   "outputs": [],
   "source": [
    "%%python\n",
    "print(stats.fisher_exact(Uitval_functiebeperking_n43))"
   ]
  },
  {
   "cell_type": "markdown",
   "id": "988a5d57",
   "metadata": {
    "lines_to_next_cell": 0
   },
   "source": [
    "<!-- ## /OPENBLOK: Fishers-Exact-toets.py -->\n",
    "\n",
    "<!-- ## CLOSEDBLOK: Fishers-Exact-toets.py -->"
   ]
  },
  {
   "cell_type": "code",
   "execution_count": null,
   "id": "8bf5165e",
   "metadata": {
    "echo": true,
    "lines_to_next_cell": 0,
    "name": "fishers exact als object",
    "tags": [
     "remove_cell"
    ]
   },
   "outputs": [],
   "source": [
    "%%python\n",
    "stat, pval = stats.fisher_exact(Uitval_functiebeperking_n43)"
   ]
  },
  {
   "cell_type": "markdown",
   "id": "792d3729",
   "metadata": {
    "lines_to_next_cell": 0
   },
   "source": [
    "<!-- ## /CLOSEDBLOK: Fishers-Exact-toets.py -->\n",
    "<!-- ## TEKSTBLOK: Fishers-Exact-toets.py -->\n",
    "* *p* = `r Round_and_format(py$pval)`; p-waarde > 0,05, dus de H~0~ wordt niet verworpen.[^8]  \n",
    "* De odds ratio is 1,8. Dat wil zeggen dat de kans op uitval van studenten met een functiebeperking met leenstelsel 1,8 keer zo groot is als de kans op uitval van studenten met een functiebeperking zonder het leenstelsel. Deze relatie is niet significant, daarom wordt het in het rapport ook niet benoemd.  \n",
    "\n",
    "<!-- ## /TEKSTBLOK: Fishers-Exact-toets.py -->\n",
    "\n",
    "## Rapportage \n",
    "De *Fisher's exact toets* is uitgevoerd om te toetsen of studenten met een functiebeperking meer of minder uitvallen sinds de invoering van het leenstelsel. De resultaten ondersteunen de nulhypothese: het percentage uitval van het aantal studenten met een functiebeperking is na de invoering van het leenstelsel gelijk gebleven, *p* > 0,05. \n",
    "\n",
    "<!-- ## CLOSEDBLOK: Footer.R -->"
   ]
  },
  {
   "cell_type": "code",
   "execution_count": null,
   "id": "3213e1dd",
   "metadata": {
    "code": "#R_CODE#readLines(paste0(here::here(),\"/01. Includes/code/Footer.R\"))",
    "include": true,
    "lines_to_next_cell": 0,
    "name": "footer",
    "results": "asis",
    "tags": [
     "remove_input"
    ]
   },
   "outputs": [],
   "source": []
  },
  {
   "cell_type": "markdown",
   "id": "dadc52c0",
   "metadata": {},
   "source": [
    "<!-- ## /CLOSEDBLOK: Footer.R -->\n",
    "\n",
    "[^1]: Binaire variabelen: twee elkaar uitsluitende waarden, zoals ja of nee, 0 of 1, aan of uit. \n",
    "[^2]: Prabhakaran, S. (2016-2017). *Statistical Tests*. http://r-statistics.co/Statistical-Tests-in-R.html.\n",
    "[^3]: Van Geloven, N., & Holman, R., (6 mei 2016). *Fisher's exact toets*. [Wiki Statistiek Academisch Medisch Centrum](https://wikistatistiek.amc.nl/index.php/Fisher's_exact_toets).\n",
    "[^4]: Universiteit van Amsterdam (13 november 2017). *Chi-square test*. [UvA Wiki Methodologiewinkel](https://wiki.uva.nl/methodologiewinkel/index.php/Chi-square_test#Assumpties). \n",
    "[^5]: Nominaal: variabelen die niet afhankelijk van elkaar zijn en niet op inhoudelijke basis geordend kunnen worden. Voorbeelden hiervan zijn geslacht of achternamen. Een binaire variabele is een voorbeeld van een nominale variabele. Binaire variabelen hebben twee mogelijkheden, ja of nee, terwijl nominale variabelen meerdere mogelijkheden kunnen hebben. \n",
    "[^6]: Field, A., Miles, J., & Field, Z. (2012). *Discovering statistics using R*. London: Sage publications.\n",
    "[^7]: Van Geloven, N. (20 augustus 2015). *Chi-kwadraat toets*. [Wiki Statistiek Academisch Medisch Centrum](https://wikistatistiek.amc.nl/index.php/Chi-kwadraat_toets).\n",
    "[^8]: In dit voorbeeld wordt uitgegaan van een waarschijnlijkheid van 95% c.q. een p-waardegrens van 0,05. De grens is naar eigen inzicht aan te passen; houd hierbij rekening met type I en type II fouten."
   ]
  }
 ],
 "metadata": {
  "jupytext": {
   "cell_metadata_filter": "eval,echo,message,name,include,warning,code,results,tags,collapse,-all",
   "main_language": "R",
   "notebook_metadata_filter": "-all"
  }
 },
 "nbformat": 4,
 "nbformat_minor": 5
}
